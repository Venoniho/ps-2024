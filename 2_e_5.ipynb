{
  "nbformat": 4,
  "nbformat_minor": 0,
  "metadata": {
    "colab": {
      "provenance": []
    },
    "kernelspec": {
      "name": "python3",
      "display_name": "Python 3"
    },
    "language_info": {
      "name": "python"
    }
  },
  "cells": [
    {
      "cell_type": "code",
      "execution_count": 1,
      "metadata": {
        "colab": {
          "base_uri": "https://localhost:8080/"
        },
        "id": "-jPJZoNYSg_7",
        "outputId": "577a4966-56b6-4ef0-edd9-456d2ccc4c40"
      },
      "outputs": [
        {
          "output_type": "stream",
          "name": "stdout",
          "text": [
            "Digite um número: 40\n",
            "O número 40 não pertence à sequência de Fibonacci.\n"
          ]
        }
      ],
      "source": [
        "def fibonacci(n):\n",
        "  if n == 0:\n",
        "    return 0\n",
        "  elif n == 1:\n",
        "    return 1\n",
        "  else:\n",
        "    return fibonacci(n-1) + fibonacci(n-2)\n",
        "\n",
        "numero = int(input(\"Digite um número: \"))\n",
        "\n",
        "if fibonacci(numero) == numero:\n",
        "  print(f\"O número {numero} pertence à sequência de Fibonacci.\")\n",
        "else:\n",
        "  print(f\"O número {numero} não pertence à sequência de Fibonacci.\")"
      ]
    },
    {
      "cell_type": "code",
      "source": [
        "def inverter(texto):\n",
        "  return texto[::-1]\n",
        "\n",
        "texto = input(\"Digite uma string: \")\n",
        "\n",
        "invertido = inverter(texto)\n",
        "\n",
        "print(f\"String invertida: {invertido}\")"
      ],
      "metadata": {
        "colab": {
          "base_uri": "https://localhost:8080/"
        },
        "id": "kyrtgfyASpfR",
        "outputId": "2ee58e91-1479-4568-e019-bf8a28b36684"
      },
      "execution_count": 2,
      "outputs": [
        {
          "output_type": "stream",
          "name": "stdout",
          "text": [
            "Digite uma string: valber\n",
            "String invertida: reblav\n"
          ]
        }
      ]
    }
  ]
}